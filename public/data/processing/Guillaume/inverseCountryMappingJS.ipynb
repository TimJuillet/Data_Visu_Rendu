{
 "cells": [
  {
   "cell_type": "code",
   "execution_count": 1,
   "metadata": {
    "collapsed": true
   },
   "outputs": [
    {
     "name": "stdout",
     "output_type": "stream",
     "text": [
      "L'inverse a été écrit dans inverse_mapping.js\n"
     ]
    }
   ],
   "source": [
    "import re\n",
    "\n",
    "# Lire le contenu du fichier d'origine\n",
    "with open('data\\\\countryMapping.js', 'r', encoding='utf-8') as f:\n",
    "    content = f.read()\n",
    "\n",
    "# Extraire l'objet JavaScript en utilisant une expression régulière\n",
    "match = re.search(r'const country_mapping = ({.*});', content, re.DOTALL)\n",
    "if match:\n",
    "    country_mapping_str = match.group(1)\n",
    "\n",
    "    # Utiliser exec pour interpréter la chaîne comme un dictionnaire Python\n",
    "    country_mapping = {}\n",
    "    exec(f\"country_mapping = {country_mapping_str}\")\n",
    "else:\n",
    "    raise ValueError(\"Impossible de trouver l'objet country_mapping dans le fichier.\")\n",
    "\n",
    "# Inverser le mapping\n",
    "inverse_mapping = {}\n",
    "for city, country in country_mapping.items():\n",
    "    if country not in inverse_mapping:\n",
    "        inverse_mapping[country] = []\n",
    "    inverse_mapping[country].append(city)\n",
    "\n",
    "# Formatage pour le fichier JavaScript de sortie\n",
    "inverse_mapping_js = f\"const inverse_mapping = {inverse_mapping};\\n\"\n",
    "\n",
    "# Écrire le résultat dans un nouveau fichier\n",
    "with open('data\\\\inverseMapping.js', 'w', encoding='utf-8') as f:\n",
    "    f.write(inverse_mapping_js)\n",
    "\n",
    "print(\"L'inverse a été écrit dans inverse_mapping.js\")\n"
   ]
  }
 ],
 "metadata": {
  "kernelspec": {
   "display_name": "Python 3",
   "language": "python",
   "name": "python3"
  },
  "language_info": {
   "codemirror_mode": {
    "name": "ipython",
    "version": 2
   },
   "file_extension": ".py",
   "mimetype": "text/x-python",
   "name": "python",
   "nbconvert_exporter": "python",
   "pygments_lexer": "ipython2",
   "version": "2.7.6"
  }
 },
 "nbformat": 4,
 "nbformat_minor": 0
}
