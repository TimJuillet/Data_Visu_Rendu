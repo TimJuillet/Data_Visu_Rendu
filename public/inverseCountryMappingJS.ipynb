{
 "cells": [
  {
   "cell_type": "code",
   "execution_count": 1,
   "metadata": {
    "collapsed": true
   },
   "outputs": [
    {
     "name": "stdout",
     "output_type": "stream",
     "text": [
      "L'inverse a été écrit dans inverse_mapping.js\n"
     ]
    }
   ],
   "source": [
    "import re\n",
    "\n",
    "# Lire le contenu du fichier d'origine\n",
    "with open('data\\\\countryMapping.js', 'r', encoding='utf-8') as f:\n",
    "    content = f.read()\n",
    "\n",
    "# Extraire l'objet JavaScript en utilisant une expression régulière\n",
    "match = re.search(r'const country_mapping = ({.*});', content, re.DOTALL)\n",
    "if match:\n",
    "    country_mapping_str = match.group(1)\n",
    "\n",
    "    # Utiliser exec pour interpréter la chaîne comme un dictionnaire Python\n",
    "    country_mapping = {}\n",
    "    exec(f\"country_mapping = {country_mapping_str}\")\n",
    "else:\n",
    "    raise ValueError(\"Impossible de trouver l'objet country_mapping dans le fichier.\")\n",
    "\n",
    "# Inverser le mapping\n",
    "inverse_mapping = {}\n",
    "for city, country in country_mapping.items():\n",
    "    if country not in inverse_mapping:\n",
    "        inverse_mapping[country] = []\n",
    "    inverse_mapping[country].append(city)\n",
    "\n",
    "# Formatage pour le fichier JavaScript de sortie\n",
    "inverse_mapping_js = f\"const inverse_mapping = {inverse_mapping};\\n\"\n",
    "\n",
    "# Écrire le résultat dans un nouveau fichier\n",
    "with open('data\\\\inverseMapping.js', 'w', encoding='utf-8') as f:\n",
    "    f.write(inverse_mapping_js)\n",
    "\n",
    "print(\"L'inverse a été écrit dans inverse_mapping.js\")\n"
   ]
  },
  {
   "cell_type": "code",
   "execution_count": 3,
   "outputs": [
    {
     "name": "stdout",
     "output_type": "stream",
     "text": [
      "Genres pour le pays United Kingdom: [\"'N'\", '43:40', 'A', 'Acid', 'Acoustic', 'Adult', 'Against', 'Age', 'Alternative', 'Ambient', 'Americana', 'Anarcho-Punk', 'And', 'Anti-Folk', 'Art', 'Australian', 'Avant-garde', 'Baroque', 'Bass', 'Beat', 'Beatbox', 'Bhangra', 'Big', 'Black', 'Blue-Eyed', 'Blues', 'Boogie', 'Breakbeat', 'British', 'Britpop', 'Bubblegum', 'Canterbury', 'Cappella', 'Celtic', 'Chanson', \"Children's\", 'Chill-out', 'Christian', 'Christmas', 'Classic', 'Classical', 'Comedy', 'Communism', 'Contemporary', 'Country', 'Crossover', 'Crust', 'Cumbia', 'Dance', 'Dance-Pop', 'Dance-Rock', 'Dark', 'Death', 'Deathcore', 'Deathrock', 'Disco', 'Doom', 'Downtempo', 'Dream', 'Drum', 'Dub', 'Dubstep', 'EBM', 'EDM', 'Easy', 'Electric', 'Electro', 'Electro-Industrial', 'Electroclash', 'Electronic', 'Electronica', 'Electropop', 'Emo', 'Eurobeat', 'Eurodance', 'Europop', 'Experimental', 'Extreme', 'Filk', 'Folk', 'Folktronica', 'Free', 'Funk', 'Fusion', 'Gangsta', 'Garage', 'Glam', 'Glitch', 'Goregrind', 'Gospel', 'Gothic', 'Grime', 'Grindcore', 'Groove', 'Grrrl', 'Grunge', 'Happy', 'Hard', 'Hardcore', 'Heavy', 'Hi-NRG', 'Hip', 'Hop', 'Horror', 'Horrorcore', 'House', 'IDM', 'Indie', 'Industrial', 'Instrumental', 'Invasion', 'Italo', 'J-Rap', 'Jangle', 'Jazz', 'Jazz-Funk', 'Klezmer', 'Krautrock', 'Listening', 'Lo-Fi', 'Mashup', 'Math', 'Mathcore', 'Medieval', 'Melodic', 'Metal', 'Metalcore', 'Minimal', 'Music', 'Musical', 'NWOBHM', 'Neo', 'Neo-Progressive', 'Neofolk', 'New', 'Noise', 'Nu', 'Oi-Punk', 'Opera', 'Operatic', 'Orchestral', 'Pagan', 'Parody', 'Piano', 'Pirate', 'Pop', 'Pop-Folk', 'Post-Grunge', 'Post-Hardcore', 'Post-Punk', 'Post-Rock', 'Power', 'Progressive', 'Protopunk', 'Psych', 'Psychedelic', 'Psychobilly', 'Pub', 'Punk', 'R&B', 'RIO', 'Rap', 'Rave', 'Reggae', 'Revival', 'Riot', 'Rock', 'Rockabilly', 'Roll', 'Roots', 'Schlager', 'Shoegazing', 'Singer-Songwriter', 'Ska', 'Skiffle', 'Slowcore', 'Smooth', 'Soft', 'Soul', 'Soundtrack', 'Southern', 'Space', 'Speed', 'Spoken', 'Steampunk', 'Stoner', 'Street', 'Swing', 'Symphonic', 'Synthpop', 'Technical', 'Techno', 'Thrash', 'Trance', 'Trip', 'Vocal', 'Wave', 'Woogie', 'Word', 'World', 'Worldbeat', 'Worship', 'nan', 'unk']\n"
     ]
    }
   ],
   "source": [
    "import json\n",
    "\n",
    "def get_genres_for_country_from_file(file_path, country):\n",
    "    # Initialisation d'un ensemble pour stocker les genres sans doublons\n",
    "    genres = set()\n",
    "\n",
    "    # Ouverture du fichier JSON et chargement des données\n",
    "    with open(file_path, 'r', encoding='utf-8') as f:\n",
    "        data = json.load(f)\n",
    "\n",
    "    # Vérification si le pays existe dans les données\n",
    "    if country in data:\n",
    "        # On ajoute les genres associés au pays\n",
    "        genres.update(data[country].keys())  # Ajoute les genres comme \"Rock\", \"Pop\", etc.\n",
    "\n",
    "    return sorted(list(genres))\n",
    "\n",
    "\n",
    "# Exemple d'utilisation\n",
    "file_path = 'data\\\\Guillaume2.json'  # Remplacez par le chemin de votre fichier JSON\n",
    "country = \"United Kingdom\"\n",
    "genres = get_genres_for_country_from_file(file_path, country)\n",
    "print(f\"Genres pour le pays {country}: {genres}\")"
   ],
   "metadata": {
    "collapsed": false
   }
  },
  {
   "cell_type": "code",
   "execution_count": null,
   "outputs": [],
   "source": [],
   "metadata": {
    "collapsed": false
   }
  }
 ],
 "metadata": {
  "kernelspec": {
   "display_name": "Python 3",
   "language": "python",
   "name": "python3"
  },
  "language_info": {
   "codemirror_mode": {
    "name": "ipython",
    "version": 2
   },
   "file_extension": ".py",
   "mimetype": "text/x-python",
   "name": "python",
   "nbconvert_exporter": "python",
   "pygments_lexer": "ipython2",
   "version": "2.7.6"
  }
 },
 "nbformat": 4,
 "nbformat_minor": 0
}
